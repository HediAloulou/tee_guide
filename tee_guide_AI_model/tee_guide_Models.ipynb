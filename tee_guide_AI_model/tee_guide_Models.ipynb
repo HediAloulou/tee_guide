{
  "cells": [
    {
      "cell_type": "markdown",
      "metadata": {
        "id": "BFRN09pSmzp_"
      },
      "source": [
        "## **TeeGuide Models** \n",
        "\n",
        "\n",
        "\n",
        "\n"
      ]
    },
    {
      "cell_type": "markdown",
      "metadata": {
        "id": "n1l87aOtcEcD"
      },
      "source": [
        "This notebook contains three models that will be deployed in our mobile app to provide guidance, advice, and schedules to our teenage customers.\n",
        "\n",
        "1-The first model is a Speech-to-Text model. We utilized Transformer's Speech2TextProcessor and Speech2TextForConditionalGeneration.\n",
        "\n",
        "2-The second model is an NLP model that generates advice and guidance for teenagers. We employed the Transformer model: the T5 model (Text-To-Text Transfer Transformer). We used TensorFlow to train the model.\n",
        "\n",
        "3-The third model is a Text-to-Speech model. It takes the output from the second model and transforms it into speech using the SpeechT5Processor, SpeechT5ForTextToSpeech, and SpeechT5HifiGan. Additionally, the set_seed function is implemented to ensure reproducibility in the model's results\n",
        "\n",
        "**All three models have been thoroughly tested and function well in the notebook**."
      ]
    },
    {
      "cell_type": "markdown",
      "metadata": {
        "id": "e3FRDw236wIM"
      },
      "source": [
        "## **Speech To Text**"
      ]
    },
    {
      "cell_type": "code",
      "execution_count": 48,
      "metadata": {
        "colab": {
          "base_uri": "https://localhost:8080/"
        },
        "id": "KcT_na0y6gtx",
        "outputId": "b98c16d6-d65c-4078-c499-1c423b7fad97"
      },
      "outputs": [
        {
          "name": "stdout",
          "output_type": "stream",
          "text": [
            "Drive already mounted at /content/drive; to attempt to forcibly remount, call drive.mount(\"/content/drive\", force_remount=True).\n"
          ]
        },
        {
          "name": "stderr",
          "output_type": "stream",
          "text": [
            "Some weights of Speech2TextForConditionalGeneration were not initialized from the model checkpoint at facebook/s2t-small-librispeech-asr and are newly initialized: ['model.encoder.embed_positions.weights', 'model.decoder.embed_positions.weights']\n",
            "You should probably TRAIN this model on a down-stream task to be able to use it for predictions and inference.\n"
          ]
        },
        {
          "name": "stdout",
          "output_type": "stream",
          "text": [
            "Transcription: i feel like there is never enough time for everything and it's dressed me out i struggle with time wasting activities and then i am stretched about not finishing my work \n"
          ]
        }
      ],
      "source": [
        "import torch\n",
        "from transformers import Speech2TextProcessor, Speech2TextForConditionalGeneration\n",
        "import librosa\n",
        "from google.colab import drive\n",
        "\n",
        "# Mount Google Drive\n",
        "drive.mount('/content/drive')\n",
        "\n",
        "# Change the working directory to the folder where your file is located\n",
        "import os\n",
        "os.chdir('/content/drive/MyDrive/tee_guide')\n",
        "\n",
        "# Load the speech-to-text model and processor\n",
        "model = Speech2TextForConditionalGeneration.from_pretrained(\"facebook/s2t-small-librispeech-asr\")\n",
        "processor = Speech2TextProcessor.from_pretrained(\"facebook/s2t-small-librispeech-asr\")\n",
        "\n",
        "# Load your own audio file\n",
        "audio_file_path = 'Record.mp3'\n",
        "# Adjust chunk size according to your preference and memory constraints\n",
        "chunk_size_seconds = 10\n",
        "\n",
        "# Function to transcribe audio chunks\n",
        "def transcribe_audio_chunk(audio_chunk):\n",
        "    inputs = processor(audio_chunk, sampling_rate=16000, return_tensors=\"pt\")\n",
        "    generated_ids = model.generate(inputs[\"input_features\"], attention_mask=inputs[\"attention_mask\"])\n",
        "    transcription = processor.batch_decode(generated_ids, skip_special_tokens=True)\n",
        "    return transcription\n",
        "\n",
        "# Load the audio file\n",
        "audio_signal, sampling_rate = librosa.load(audio_file_path, sr=16000)\n",
        "\n",
        "# Calculate the number of chunks\n",
        "chunk_size_samples = chunk_size_seconds * sampling_rate\n",
        "num_chunks = len(audio_signal) // chunk_size_samples\n",
        "\n",
        "# Transcribe each chunk and concatenate the transcriptions into a string\n",
        "transcription_string = \"\"\n",
        "for i in range(num_chunks + 1):\n",
        "    start = i * chunk_size_samples\n",
        "    end = min((i + 1) * chunk_size_samples, len(audio_signal))\n",
        "    audio_chunk = audio_signal[start:end]\n",
        "    transcription_chunk = transcribe_audio_chunk(audio_chunk)\n",
        "    transcription_string += ' '.join(transcription_chunk) + ' '\n",
        "\n",
        "print(\"Transcription:\", transcription_string)\n"
      ]
    },
    {
      "cell_type": "markdown",
      "metadata": {
        "id": "1mxPvbNp-24N"
      },
      "source": [
        "**NLP Model: This model takes input from teenagers' problems, explores their experiences with anxiety and stress, and examines how these challenges impact their lives. It then offers advice and suggests time management methods to help them navigate through these issues.**\n",
        "\n",
        "\n",
        "\n",
        "\n"
      ]
    },
    {
      "cell_type": "code",
      "execution_count": 49,
      "metadata": {
        "colab": {
          "base_uri": "https://localhost:8080/",
          "height": 73
        },
        "id": "la-JEj0Qq8DQ",
        "outputId": "e40f592b-d0ba-4804-ce59-548fe85a2ea3"
      },
      "outputs": [
        {
          "data": {
            "text/html": [
              "\n",
              "     <input type=\"file\" id=\"files-91ed758e-9300-4b85-8941-8012a4a30a58\" name=\"files[]\" multiple disabled\n",
              "        style=\"border:none\" />\n",
              "     <output id=\"result-91ed758e-9300-4b85-8941-8012a4a30a58\">\n",
              "      Upload widget is only available when the cell has been executed in the\n",
              "      current browser session. Please rerun this cell to enable.\n",
              "      </output>\n",
              "      <script>// Copyright 2017 Google LLC\n",
              "//\n",
              "// Licensed under the Apache License, Version 2.0 (the \"License\");\n",
              "// you may not use this file except in compliance with the License.\n",
              "// You may obtain a copy of the License at\n",
              "//\n",
              "//      http://www.apache.org/licenses/LICENSE-2.0\n",
              "//\n",
              "// Unless required by applicable law or agreed to in writing, software\n",
              "// distributed under the License is distributed on an \"AS IS\" BASIS,\n",
              "// WITHOUT WARRANTIES OR CONDITIONS OF ANY KIND, either express or implied.\n",
              "// See the License for the specific language governing permissions and\n",
              "// limitations under the License.\n",
              "\n",
              "/**\n",
              " * @fileoverview Helpers for google.colab Python module.\n",
              " */\n",
              "(function(scope) {\n",
              "function span(text, styleAttributes = {}) {\n",
              "  const element = document.createElement('span');\n",
              "  element.textContent = text;\n",
              "  for (const key of Object.keys(styleAttributes)) {\n",
              "    element.style[key] = styleAttributes[key];\n",
              "  }\n",
              "  return element;\n",
              "}\n",
              "\n",
              "// Max number of bytes which will be uploaded at a time.\n",
              "const MAX_PAYLOAD_SIZE = 100 * 1024;\n",
              "\n",
              "function _uploadFiles(inputId, outputId) {\n",
              "  const steps = uploadFilesStep(inputId, outputId);\n",
              "  const outputElement = document.getElementById(outputId);\n",
              "  // Cache steps on the outputElement to make it available for the next call\n",
              "  // to uploadFilesContinue from Python.\n",
              "  outputElement.steps = steps;\n",
              "\n",
              "  return _uploadFilesContinue(outputId);\n",
              "}\n",
              "\n",
              "// This is roughly an async generator (not supported in the browser yet),\n",
              "// where there are multiple asynchronous steps and the Python side is going\n",
              "// to poll for completion of each step.\n",
              "// This uses a Promise to block the python side on completion of each step,\n",
              "// then passes the result of the previous step as the input to the next step.\n",
              "function _uploadFilesContinue(outputId) {\n",
              "  const outputElement = document.getElementById(outputId);\n",
              "  const steps = outputElement.steps;\n",
              "\n",
              "  const next = steps.next(outputElement.lastPromiseValue);\n",
              "  return Promise.resolve(next.value.promise).then((value) => {\n",
              "    // Cache the last promise value to make it available to the next\n",
              "    // step of the generator.\n",
              "    outputElement.lastPromiseValue = value;\n",
              "    return next.value.response;\n",
              "  });\n",
              "}\n",
              "\n",
              "/**\n",
              " * Generator function which is called between each async step of the upload\n",
              " * process.\n",
              " * @param {string} inputId Element ID of the input file picker element.\n",
              " * @param {string} outputId Element ID of the output display.\n",
              " * @return {!Iterable<!Object>} Iterable of next steps.\n",
              " */\n",
              "function* uploadFilesStep(inputId, outputId) {\n",
              "  const inputElement = document.getElementById(inputId);\n",
              "  inputElement.disabled = false;\n",
              "\n",
              "  const outputElement = document.getElementById(outputId);\n",
              "  outputElement.innerHTML = '';\n",
              "\n",
              "  const pickedPromise = new Promise((resolve) => {\n",
              "    inputElement.addEventListener('change', (e) => {\n",
              "      resolve(e.target.files);\n",
              "    });\n",
              "  });\n",
              "\n",
              "  const cancel = document.createElement('button');\n",
              "  inputElement.parentElement.appendChild(cancel);\n",
              "  cancel.textContent = 'Cancel upload';\n",
              "  const cancelPromise = new Promise((resolve) => {\n",
              "    cancel.onclick = () => {\n",
              "      resolve(null);\n",
              "    };\n",
              "  });\n",
              "\n",
              "  // Wait for the user to pick the files.\n",
              "  const files = yield {\n",
              "    promise: Promise.race([pickedPromise, cancelPromise]),\n",
              "    response: {\n",
              "      action: 'starting',\n",
              "    }\n",
              "  };\n",
              "\n",
              "  cancel.remove();\n",
              "\n",
              "  // Disable the input element since further picks are not allowed.\n",
              "  inputElement.disabled = true;\n",
              "\n",
              "  if (!files) {\n",
              "    return {\n",
              "      response: {\n",
              "        action: 'complete',\n",
              "      }\n",
              "    };\n",
              "  }\n",
              "\n",
              "  for (const file of files) {\n",
              "    const li = document.createElement('li');\n",
              "    li.append(span(file.name, {fontWeight: 'bold'}));\n",
              "    li.append(span(\n",
              "        `(${file.type || 'n/a'}) - ${file.size} bytes, ` +\n",
              "        `last modified: ${\n",
              "            file.lastModifiedDate ? file.lastModifiedDate.toLocaleDateString() :\n",
              "                                    'n/a'} - `));\n",
              "    const percent = span('0% done');\n",
              "    li.appendChild(percent);\n",
              "\n",
              "    outputElement.appendChild(li);\n",
              "\n",
              "    const fileDataPromise = new Promise((resolve) => {\n",
              "      const reader = new FileReader();\n",
              "      reader.onload = (e) => {\n",
              "        resolve(e.target.result);\n",
              "      };\n",
              "      reader.readAsArrayBuffer(file);\n",
              "    });\n",
              "    // Wait for the data to be ready.\n",
              "    let fileData = yield {\n",
              "      promise: fileDataPromise,\n",
              "      response: {\n",
              "        action: 'continue',\n",
              "      }\n",
              "    };\n",
              "\n",
              "    // Use a chunked sending to avoid message size limits. See b/62115660.\n",
              "    let position = 0;\n",
              "    do {\n",
              "      const length = Math.min(fileData.byteLength - position, MAX_PAYLOAD_SIZE);\n",
              "      const chunk = new Uint8Array(fileData, position, length);\n",
              "      position += length;\n",
              "\n",
              "      const base64 = btoa(String.fromCharCode.apply(null, chunk));\n",
              "      yield {\n",
              "        response: {\n",
              "          action: 'append',\n",
              "          file: file.name,\n",
              "          data: base64,\n",
              "        },\n",
              "      };\n",
              "\n",
              "      let percentDone = fileData.byteLength === 0 ?\n",
              "          100 :\n",
              "          Math.round((position / fileData.byteLength) * 100);\n",
              "      percent.textContent = `${percentDone}% done`;\n",
              "\n",
              "    } while (position < fileData.byteLength);\n",
              "  }\n",
              "\n",
              "  // All done.\n",
              "  yield {\n",
              "    response: {\n",
              "      action: 'complete',\n",
              "    }\n",
              "  };\n",
              "}\n",
              "\n",
              "scope.google = scope.google || {};\n",
              "scope.google.colab = scope.google.colab || {};\n",
              "scope.google.colab._files = {\n",
              "  _uploadFiles,\n",
              "  _uploadFilesContinue,\n",
              "};\n",
              "})(self);\n",
              "</script> "
            ],
            "text/plain": [
              "<IPython.core.display.HTML object>"
            ]
          },
          "metadata": {},
          "output_type": "display_data"
        },
        {
          "name": "stdout",
          "output_type": "stream",
          "text": [
            "Saving fin.csv to fin (2).csv\n"
          ]
        }
      ],
      "source": [
        "from google.colab import files\n",
        "\n",
        "uploaded = files.upload()\n"
      ]
    },
    {
      "cell_type": "code",
      "execution_count": 50,
      "metadata": {
        "colab": {
          "base_uri": "https://localhost:8080/"
        },
        "id": "h3RNAq4BSWf4",
        "outputId": "d6fb5df7-8cdd-406b-9de8-404006620ba4"
      },
      "outputs": [
        {
          "name": "stdout",
          "output_type": "stream",
          "text": [
            "Input     object\n",
            "Output    object\n",
            "dtype: object\n",
            "                                               Input  \\\n",
            "0  I get anxious when I have too many assignments...   \n",
            "1  I feel like there's never enough time for ever...   \n",
            "2  I struggle with time-wasting activities, and t...   \n",
            "3  I often feel guilty when I take breaks. How ca...   \n",
            "4  I struggle with setting priorities and end up ...   \n",
            "\n",
            "                                              Output  \n",
            "0  Breaking down your assignments into smaller ta...  \n",
            "1  Time management is crucial. Use a planner or d...  \n",
            "2  Identify and limit time-wasting habits. Set sp...  \n",
            "3  Self-care is essential for productivity. Sched...  \n",
            "4  Create a to-do list and categorize tasks by ur...  \n",
            "<class 'pandas.core.frame.DataFrame'>\n",
            "RangeIndex: 98 entries, 0 to 97\n",
            "Data columns (total 2 columns):\n",
            " #   Column  Non-Null Count  Dtype \n",
            "---  ------  --------------  ----- \n",
            " 0   Input   98 non-null     object\n",
            " 1   Output  98 non-null     object\n",
            "dtypes: object(2)\n",
            "memory usage: 1.7+ KB\n",
            "None\n",
            "Input     object\n",
            "Output    object\n",
            "dtype: object\n",
            "                                               Input  \\\n",
            "0  I get anxious when I have too many assignments...   \n",
            "1  I feel like there's never enough time for ever...   \n",
            "2  I struggle with time-wasting activities, and t...   \n",
            "3  I often feel guilty when I take breaks. How ca...   \n",
            "4  I struggle with setting priorities and end up ...   \n",
            "\n",
            "                                              Output  \n",
            "0  Breaking down your assignments into smaller ta...  \n",
            "1  Time management is crucial. Use a planner or d...  \n",
            "2  Identify and limit time-wasting habits. Set sp...  \n",
            "3  Self-care is essential for productivity. Sched...  \n",
            "4  Create a to-do list and categorize tasks by ur...  \n",
            "<class 'pandas.core.frame.DataFrame'>\n",
            "RangeIndex: 98 entries, 0 to 97\n",
            "Data columns (total 2 columns):\n",
            " #   Column  Non-Null Count  Dtype \n",
            "---  ------  --------------  ----- \n",
            " 0   Input   98 non-null     object\n",
            " 1   Output  98 non-null     object\n",
            "dtypes: object(2)\n",
            "memory usage: 1.7+ KB\n",
            "None\n"
          ]
        },
        {
          "name": "stderr",
          "output_type": "stream",
          "text": [
            "[nltk_data] Downloading package stopwords to /root/nltk_data...\n",
            "[nltk_data]   Package stopwords is already up-to-date!\n",
            "[nltk_data] Downloading package punkt to /root/nltk_data...\n",
            "[nltk_data]   Package punkt is already up-to-date!\n"
          ]
        },
        {
          "data": {
            "text/plain": [
              "True"
            ]
          },
          "execution_count": 50,
          "metadata": {},
          "output_type": "execute_result"
        }
      ],
      "source": [
        "import nltk\n",
        "from nltk.corpus import stopwords\n",
        "from nltk.tokenize import word_tokenize\n",
        "import pandas as pd\n",
        "import numpy as np\n",
        "import tensorflow as tf\n",
        "from transformers import TFAutoModelForSeq2SeqLM, AutoTokenizer\n",
        "\n",
        "# Load CSV data\n",
        "data = pd.read_csv('fin.csv',nrows=98)\n",
        "print(data.dtypes)\n",
        "df = pd.DataFrame(data, columns=('Input','Output'))\n",
        "print(df.head())\n",
        "print(df.info())\n",
        "\n",
        "# Load CSV data\n",
        "data = pd.read_csv('fin.csv', nrows=98)\n",
        "print(data.dtypes)\n",
        "df = pd.DataFrame(data, columns=('Input', 'Output'))\n",
        "print(df.head())\n",
        "print(df.info())\n",
        "\n",
        "# Download NLTK resources (stopwords and punkt tokenizer) if not already downloaded\n",
        "nltk.download('stopwords')\n",
        "nltk.download('punkt')\n",
        "\n",
        "\n",
        "\n"
      ]
    },
    {
      "cell_type": "markdown",
      "metadata": {
        "id": "SLdnVWn5INB_"
      },
      "source": [
        "## **Text preprocessing Function**"
      ]
    },
    {
      "cell_type": "code",
      "execution_count": 51,
      "metadata": {
        "id": "TXSRYoR4IKib"
      },
      "outputs": [],
      "source": [
        "# Define a function for text preprocessing\n",
        "def preprocess_text(text):\n",
        "    # Convert to lowercase\n",
        "    text = text.lower()\n",
        "\n",
        "    # Tokenize the text\n",
        "    tokens = word_tokenize(text)\n",
        "\n",
        "    # Remove stop words\n",
        "    stop_words = set(stopwords.words('english'))\n",
        "    tokens = [token for token in tokens if token not in stop_words]\n",
        "\n",
        "    # Join the tokens back into a string\n",
        "    preprocessed_text = ' '.join(tokens)\n",
        "\n",
        "    return preprocessed_text"
      ]
    },
    {
      "cell_type": "code",
      "execution_count": 52,
      "metadata": {
        "colab": {
          "base_uri": "https://localhost:8080/"
        },
        "id": "n9njcht4FMiH",
        "outputId": "a302d05f-858e-457b-cf35-ce45dc3580c8"
      },
      "outputs": [
        {
          "name": "stderr",
          "output_type": "stream",
          "text": [
            "/usr/local/lib/python3.10/dist-packages/transformers/models/t5/tokenization_t5_fast.py:160: FutureWarning: This tokenizer was incorrectly instantiated with a model max length of 512 which will be corrected in Transformers v5.\n",
            "For now, this behavior is kept to avoid breaking backwards compatibility when padding/encoding with `truncation is True`.\n",
            "- Be aware that you SHOULD NOT rely on t5-base automatically truncating your input to 512 when padding/encoding.\n",
            "- If you want to encode/pad to sequences longer than 512 you can either instantiate this tokenizer with `model_max_length` or pass `max_length` when encoding/padding.\n",
            "- To avoid this warning, please instantiate this tokenizer with `model_max_length` set to your preferred value.\n",
            "  warnings.warn(\n",
            "All PyTorch model weights were used when initializing TFT5ForConditionalGeneration.\n",
            "\n",
            "All the weights of TFT5ForConditionalGeneration were initialized from the PyTorch model.\n",
            "If your task is similar to the task the model of the checkpoint was trained on, you can already use TFT5ForConditionalGeneration for predictions without further training.\n"
          ]
        }
      ],
      "source": [
        "from transformers import TFAutoModelForSeq2SeqLM, AutoTokenizer\n",
        "import tensorflow as tf\n",
        "import pandas as pd\n",
        "model_name = 't5-base'\n",
        "tokenizer = AutoTokenizer.from_pretrained(model_name)\n",
        "model = TFAutoModelForSeq2SeqLM.from_pretrained(model_name)\n",
        "#Text preprocessing to the input and output columns\n",
        "data['Input'] = data['Input'].apply(preprocess_text)\n",
        "data['Output'] = data['Output'].apply(preprocess_text)\n",
        "\n",
        "# Tokenize the preprocessed input and output sequences\n",
        "input_sequences = tokenizer(data['Input'].tolist(), padding=True, truncation=True, return_tensors=\"tf\")\n",
        "output_sequences = tokenizer(data['Output'].tolist(), padding=True, truncation=True, return_tensors=\"tf\")\n",
        "\n"
      ]
    },
    {
      "cell_type": "code",
      "execution_count": 53,
      "metadata": {
        "colab": {
          "base_uri": "https://localhost:8080/"
        },
        "id": "IOAe3gfzV4jd",
        "outputId": "f7d63e97-c387-4f07-b36c-c288ee375c97"
      },
      "outputs": [
        {
          "name": "stdout",
          "output_type": "stream",
          "text": [
            "Model: \"tft5_for_conditional_generation_2\"\n",
            "_________________________________________________________________\n",
            " Layer (type)                Output Shape              Param #   \n",
            "=================================================================\n",
            " shared (Embedding)          multiple                  24674304  \n",
            "                                                                 \n",
            " encoder (TFT5MainLayer)     multiple                  109628544 \n",
            "                                                                 \n",
            " decoder (TFT5MainLayer)     multiple                  137949312 \n",
            "                                                                 \n",
            "=================================================================\n",
            "Total params: 222903552 (850.31 MB)\n",
            "Trainable params: 222903552 (850.31 MB)\n",
            "Non-trainable params: 0 (0.00 Byte)\n",
            "_________________________________________________________________\n",
            "Epoch 1/10\n",
            "39/39 [==============================] - 63s 221ms/step - loss: 3.2591 - accuracy: 0.5200 - val_loss: 1.5600 - val_accuracy: 0.7083\n",
            "Epoch 2/10\n",
            "39/39 [==============================] - 5s 120ms/step - loss: 1.8463 - accuracy: 0.6592 - val_loss: 0.8652 - val_accuracy: 0.8052\n",
            "Epoch 3/10\n",
            "39/39 [==============================] - 5s 122ms/step - loss: 1.2361 - accuracy: 0.7356 - val_loss: 0.4671 - val_accuracy: 0.8875\n",
            "Epoch 4/10\n",
            "39/39 [==============================] - 5s 121ms/step - loss: 0.8269 - accuracy: 0.8077 - val_loss: 0.2416 - val_accuracy: 0.9417\n",
            "Epoch 5/10\n",
            "39/39 [==============================] - 5s 120ms/step - loss: 0.5827 - accuracy: 0.8552 - val_loss: 0.1626 - val_accuracy: 0.9479\n",
            "Epoch 6/10\n",
            "39/39 [==============================] - 5s 124ms/step - loss: 0.3867 - accuracy: 0.8966 - val_loss: 0.0902 - val_accuracy: 0.9833\n",
            "Epoch 7/10\n",
            "39/39 [==============================] - 5s 120ms/step - loss: 0.2547 - accuracy: 0.9324 - val_loss: 0.0988 - val_accuracy: 0.9729\n",
            "Epoch 8/10\n",
            "39/39 [==============================] - 5s 119ms/step - loss: 0.2067 - accuracy: 0.9420 - val_loss: 0.0544 - val_accuracy: 0.9875\n",
            "Epoch 9/10\n",
            "39/39 [==============================] - 5s 124ms/step - loss: 0.1762 - accuracy: 0.9559 - val_loss: 0.0290 - val_accuracy: 0.9906\n",
            "Epoch 10/10\n",
            "39/39 [==============================] - 5s 118ms/step - loss: 0.1301 - accuracy: 0.9685 - val_loss: 0.0511 - val_accuracy: 0.9844\n"
          ]
        }
      ],
      "source": [
        "# Preparation of inputs and labels for training\n",
        "inputs = {\n",
        "    \"input_ids\": input_sequences[\"input_ids\"],\n",
        "    \"attention_mask\": input_sequences[\"attention_mask\"],\n",
        "    \"decoder_attention_mask\": output_sequences[\"attention_mask\"][:, :-1] \n",
        "}\n",
        "labels = output_sequences[\"input_ids\"][:, 1:]  \n",
        "\n",
        "# Compile the model\n",
        "model.compile(optimizer=\"adam\", loss=tf.keras.losses.SparseCategoricalCrossentropy(from_logits=True), metrics=[\"accuracy\"])\n",
        "model.summary()\n",
        "\n",
        "# Train the model\n",
        "history = model.fit(inputs, labels, batch_size=2, epochs=10, validation_split=0.2)\n"
      ]
    },
    {
      "cell_type": "markdown",
      "metadata": {},
      "source": [
        "**Testing The Model**"
      ]
    },
    {
      "cell_type": "code",
      "execution_count": 54,
      "metadata": {
        "id": "H0pa4EAkJc3j"
      },
      "outputs": [],
      "source": [
        "#function of Prediction:\n",
        "def generate_output(input_text, model, tokenizer):\n",
        "    # Tokenize the input sequence\n",
        "    input_sequence = tokenizer(input_text, return_tensors=\"tf\", padding=True, truncation=True)\n",
        "\n",
        "    # Generate output using the trained model\n",
        "    generated_output_ids = model.generate(\n",
        "        input_sequence[\"input_ids\"],\n",
        "        max_length=100,\n",
        "        num_beams=5,\n",
        "        length_penalty=0.6,\n",
        "        no_repeat_ngram_size=2\n",
        "    )\n",
        "\n",
        "    # Decode and return the generated output\n",
        "    generated_output_text = tokenizer.decode(generated_output_ids[0], skip_special_tokens=True)\n",
        "    return generated_output_text"
      ]
    },
    {
      "cell_type": "code",
      "execution_count": 55,
      "metadata": {
        "colab": {
          "base_uri": "https://localhost:8080/"
        },
        "id": "8_77zwykbOZf",
        "outputId": "bb7f9ec0-d794-40c1-8243-b04b4b0bda96"
      },
      "outputs": [
        {
          "name": "stdout",
          "output_type": "stream",
          "text": [
            "Generated Output 1: take breaks necessary maintaining focus mental well-being.\n"
          ]
        }
      ],
      "source": [
        "#Testing Exemple\n",
        "new_input_text1 = \"I often feel guilty when I take breaks. How can I balance work and self-care without feeling bad?\"\n",
        "new_input_text2 = transcription_string #the string generated from the audio\n",
        "\n",
        "# Call the function with different inputs\n",
        "generated_output1 = generate_output(new_input_text1, model, tokenizer)\n",
        "\n",
        "# Print the generated outputs\n",
        "print(\"Generated Output 1:\", generated_output1)\n"
      ]
    },
    {
      "cell_type": "markdown",
      "metadata": {
        "id": "q7giaaV89cfx"
      },
      "source": [
        "## **Text To Speech Model**\n",
        "\n"
      ]
    },
    {
      "cell_type": "code",
      "execution_count": 57,
      "metadata": {
        "colab": {
          "base_uri": "https://localhost:8080/",
          "height": 93
        },
        "id": "YPljQ4fA9ZfY",
        "outputId": "e522d05d-7902-4861-d26a-77a54e0b9d7f"
      },
      "outputs": [
        {
          "name": "stdout",
          "output_type": "stream",
          "text": [
            "spend time outside work. take breaks necessary maintaining focus mental well-being.\n"
          ]
        },
        {
          "data": {
            "text/html": [
              "\n",
              "                <audio  controls=\"controls\" >\n",
              "                    <source src=\"data:audio/wav;base64,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\" type=\"audio/wav\" />\n",
              "                    Your browser does not support the audio element.\n",
              "                </audio>\n",
              "              "
            ],
            "text/plain": [
              "<IPython.lib.display.Audio object>"
            ]
          },
          "execution_count": 57,
          "metadata": {},
          "output_type": "execute_result"
        }
      ],
      "source": [
        "from transformers import SpeechT5Processor, SpeechT5ForTextToSpeech, SpeechT5HifiGan, set_seed\n",
        "import torch\n",
        "import IPython.display as ipd\n",
        "\n",
        "processor = SpeechT5Processor.from_pretrained(\"microsoft/speecht5_tts\")\n",
        "model = SpeechT5ForTextToSpeech.from_pretrained(\"microsoft/speecht5_tts\")\n",
        "vocoder = SpeechT5HifiGan.from_pretrained(\"microsoft/speecht5_hifigan\")\n",
        "\n",
        "txt = input(generated_output2)\n",
        "\n",
        "inputs = processor(text= txt, return_tensors=\"pt\")\n",
        "speaker_embeddings = torch.zeros((1, 512))\n",
        "\n",
        "set_seed(555)  # Make deterministic\n",
        "speech = model.generate(inputs[\"input_ids\"], speaker_embeddings, vocoder=vocoder)\n",
        "\n",
        "# Play generated audio in Colab\n",
        "ipd.Audio(speech.squeeze().numpy(), rate=14000)"
      ]
    }
  ],
  "metadata": {
    "accelerator": "GPU",
    "colab": {
      "gpuType": "T4",
      "provenance": []
    },
    "kernelspec": {
      "display_name": "Python 3",
      "name": "python3"
    },
    "language_info": {
      "name": "python"
    }
  },
  "nbformat": 4,
  "nbformat_minor": 0
}
